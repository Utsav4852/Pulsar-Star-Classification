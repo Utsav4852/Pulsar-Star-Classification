{
 "cells": [
  {
   "cell_type": "markdown",
   "id": "1e6a28bd",
   "metadata": {},
   "source": [
    "# Pulsar Star Classification\n",
    "---\n",
    "Pulsars are a rate type of Neutro star that produce radio detectable here on Earth. They are of considerable scientific interest as probes of space-time, the interstellar medium, and stated of matter. Machine learning tools are now being used to automatically label pulsar candidated to facilitate rapid analysis. Classification systems in particular are being widely adopted, which treat the candidate data sets as binary classification problems."
   ]
  },
  {
   "cell_type": "code",
   "execution_count": 1,
   "id": "ccf9d2b8",
   "metadata": {},
   "outputs": [],
   "source": [
    "# Improting Libraries\n",
    "\n",
    "import pandas as pd\n",
    "import numpy as np\n",
    "from sklearn.metrics import accuracy_score, log_loss\n",
    "\n",
    "import matplotlib.pyplot as plt\n",
    "import seaborn as sns\n",
    "import warnings\n",
    "\n",
    "warnings.filterwarnings('ignore')\n",
    "\n",
    "from sklearn.model_selection import train_test_split\n",
    "from sklearn.preprocessing import StandardScaler\n",
    "\n",
    "from catboost import CatBoostClassifier\n",
    "import tqdm as tqdm\n",
    "from tqdm.notebook import tqdm_notebook\n",
    "from sklearn.model_selection import StratifiedKFold"
   ]
  },
  {
   "cell_type": "markdown",
   "id": "db01bcc1",
   "metadata": {},
   "source": [
    "# import train data"
   ]
  },
  {
   "cell_type": "code",
   "execution_count": 2,
   "id": "3f2d4b78",
   "metadata": {},
   "outputs": [],
   "source": [
    "train_df = pd.read_csv('train.csv', index_col='id')"
   ]
  },
  {
   "cell_type": "code",
   "execution_count": 3,
   "id": "4a387b26",
   "metadata": {},
   "outputs": [
    {
     "data": {
      "text/html": [
       "<div>\n",
       "<style scoped>\n",
       "    .dataframe tbody tr th:only-of-type {\n",
       "        vertical-align: middle;\n",
       "    }\n",
       "\n",
       "    .dataframe tbody tr th {\n",
       "        vertical-align: top;\n",
       "    }\n",
       "\n",
       "    .dataframe thead th {\n",
       "        text-align: right;\n",
       "    }\n",
       "</style>\n",
       "<table border=\"1\" class=\"dataframe\">\n",
       "  <thead>\n",
       "    <tr style=\"text-align: right;\">\n",
       "      <th></th>\n",
       "      <th>Mean_Integrated</th>\n",
       "      <th>SD</th>\n",
       "      <th>EK</th>\n",
       "      <th>Skewness</th>\n",
       "      <th>Mean_DMSNR_Curve</th>\n",
       "      <th>SD_DMSNR_Curve</th>\n",
       "      <th>EK_DMSNR_Curve</th>\n",
       "      <th>Skewness_DMSNR_Curve</th>\n",
       "      <th>Class</th>\n",
       "    </tr>\n",
       "    <tr>\n",
       "      <th>id</th>\n",
       "      <th></th>\n",
       "      <th></th>\n",
       "      <th></th>\n",
       "      <th></th>\n",
       "      <th></th>\n",
       "      <th></th>\n",
       "      <th></th>\n",
       "      <th></th>\n",
       "      <th></th>\n",
       "    </tr>\n",
       "  </thead>\n",
       "  <tbody>\n",
       "    <tr>\n",
       "      <th>0</th>\n",
       "      <td>133.171875</td>\n",
       "      <td>59.716081</td>\n",
       "      <td>0.043133</td>\n",
       "      <td>-0.703383</td>\n",
       "      <td>54.917224</td>\n",
       "      <td>70.084438</td>\n",
       "      <td>0.749798</td>\n",
       "      <td>-0.649512</td>\n",
       "      <td>0</td>\n",
       "    </tr>\n",
       "    <tr>\n",
       "      <th>1</th>\n",
       "      <td>87.093750</td>\n",
       "      <td>36.257973</td>\n",
       "      <td>0.435469</td>\n",
       "      <td>2.266057</td>\n",
       "      <td>3.417224</td>\n",
       "      <td>21.865069</td>\n",
       "      <td>7.039330</td>\n",
       "      <td>52.686251</td>\n",
       "      <td>0</td>\n",
       "    </tr>\n",
       "    <tr>\n",
       "      <th>2</th>\n",
       "      <td>112.640625</td>\n",
       "      <td>39.818393</td>\n",
       "      <td>0.379639</td>\n",
       "      <td>0.922306</td>\n",
       "      <td>2.730769</td>\n",
       "      <td>15.689690</td>\n",
       "      <td>8.193471</td>\n",
       "      <td>85.649785</td>\n",
       "      <td>0</td>\n",
       "    </tr>\n",
       "    <tr>\n",
       "      <th>3</th>\n",
       "      <td>120.679688</td>\n",
       "      <td>45.918448</td>\n",
       "      <td>-0.098490</td>\n",
       "      <td>0.011775</td>\n",
       "      <td>2.696488</td>\n",
       "      <td>20.954662</td>\n",
       "      <td>8.183874</td>\n",
       "      <td>70.332899</td>\n",
       "      <td>0</td>\n",
       "    </tr>\n",
       "    <tr>\n",
       "      <th>4</th>\n",
       "      <td>134.070312</td>\n",
       "      <td>57.720107</td>\n",
       "      <td>-0.107772</td>\n",
       "      <td>-0.573335</td>\n",
       "      <td>1.107860</td>\n",
       "      <td>11.255051</td>\n",
       "      <td>16.107748</td>\n",
       "      <td>308.753765</td>\n",
       "      <td>0</td>\n",
       "    </tr>\n",
       "  </tbody>\n",
       "</table>\n",
       "</div>"
      ],
      "text/plain": [
       "    Mean_Integrated         SD        EK  Skewness  Mean_DMSNR_Curve  \\\n",
       "id                                                                     \n",
       "0        133.171875  59.716081  0.043133 -0.703383         54.917224   \n",
       "1         87.093750  36.257973  0.435469  2.266057          3.417224   \n",
       "2        112.640625  39.818393  0.379639  0.922306          2.730769   \n",
       "3        120.679688  45.918448 -0.098490  0.011775          2.696488   \n",
       "4        134.070312  57.720107 -0.107772 -0.573335          1.107860   \n",
       "\n",
       "    SD_DMSNR_Curve  EK_DMSNR_Curve  Skewness_DMSNR_Curve  Class  \n",
       "id                                                               \n",
       "0        70.084438        0.749798             -0.649512      0  \n",
       "1        21.865069        7.039330             52.686251      0  \n",
       "2        15.689690        8.193471             85.649785      0  \n",
       "3        20.954662        8.183874             70.332899      0  \n",
       "4        11.255051       16.107748            308.753765      0  "
      ]
     },
     "execution_count": 3,
     "metadata": {},
     "output_type": "execute_result"
    }
   ],
   "source": [
    "train_df.head()"
   ]
  },
  {
   "cell_type": "markdown",
   "id": "08dc493e",
   "metadata": {},
   "source": [
    "# Understanding data"
   ]
  },
  {
   "cell_type": "code",
   "execution_count": 4,
   "id": "832a8bf6",
   "metadata": {},
   "outputs": [
    {
     "data": {
      "text/plain": [
       "array([0, 1], dtype=int64)"
      ]
     },
     "execution_count": 4,
     "metadata": {},
     "output_type": "execute_result"
    }
   ],
   "source": [
    "# Unique data available in output data\n",
    "train_df.Class.unique()"
   ]
  },
  {
   "cell_type": "code",
   "execution_count": 5,
   "id": "38c58a89",
   "metadata": {},
   "outputs": [
    {
     "data": {
      "text/plain": [
       "Index(['Mean_Integrated', 'SD', 'EK', 'Skewness', 'Mean_DMSNR_Curve',\n",
       "       'SD_DMSNR_Curve', 'EK_DMSNR_Curve', 'Skewness_DMSNR_Curve', 'Class'],\n",
       "      dtype='object')"
      ]
     },
     "execution_count": 5,
     "metadata": {},
     "output_type": "execute_result"
    }
   ],
   "source": [
    "# Available columns data\n",
    "train_df.columns"
   ]
  },
  {
   "cell_type": "markdown",
   "id": "8f551933",
   "metadata": {},
   "source": [
    "# Visualize data"
   ]
  },
  {
   "cell_type": "code",
   "execution_count": 6,
   "id": "d9d69d8d",
   "metadata": {},
   "outputs": [
    {
     "data": {
      "image/png": "[encoded data removed]",
      "text/plain": [
       "<Figure size 1500x1500 with 16 Axes>"
      ]
     },
     "metadata": {},
     "output_type": "display_data"
    }
   ],
   "source": [
    "_, ax = plt.subplots(4,4, figsize=(15,15))\n",
    "\n",
    "cols = train_df.columns[:-1]\n",
    "for i in range(len(cols)):\n",
    "    j = 0\n",
    "    k = i\n",
    "    if i > 3:\n",
    "        j += 2\n",
    "        k = i-4\n",
    "    zeros = train_df[train_df['Class'] == 0][cols[i]]\n",
    "    ones = train_df[train_df['Class'] == 1][cols[i]]\n",
    "    sns.boxplot(zeros, ax = ax[j,k])\n",
    "    ax[j,k].set(ylabel='0')\n",
    "    sns.boxplot(ones, ax=ax[j+1,k])\n",
    "    ax[j+1,k].set(ylabel='1')\n",
    "    k += 1\n",
    "    if i >= 3:\n",
    "        k = 0"
   ]
  },
  {
   "cell_type": "markdown",
   "id": "adaaffc8",
   "metadata": {},
   "source": [
    "# transform data"
   ]
  },
  {
   "cell_type": "code",
   "execution_count": 7,
   "id": "7e8150cb",
   "metadata": {},
   "outputs": [],
   "source": [
    "X = train_df.drop(columns=['Class'])\n",
    "\n",
    "Y = train_df['Class']\n",
    "\n",
    "std = StandardScaler()\n",
    "std.fit(X)\n",
    "\n",
    "X_std = std.transform(X)\n",
    "\n",
    "X_train, X_test, Y_train, Y_test = train_test_split(X_std,Y, test_size=0.2, random_state=43)"
   ]
  },
  {
   "cell_type": "markdown",
   "id": "978cda7b",
   "metadata": {},
   "source": [
    "# Model Training"
   ]
  },
  {
   "cell_type": "code",
   "execution_count": 153,
   "id": "8bd22ac2",
   "metadata": {},
   "outputs": [
    {
     "data": {
      "text/plain": [
       "XGBClassifier(base_score=0.5, booster='gbtree', callbacks=None,\n",
       "              colsample_bylevel=1, colsample_bynode=1, colsample_bytree=1,\n",
       "              early_stopping_rounds=None, enable_categorical=False,\n",
       "              eval_metric=None, gamma=0, gpu_id=-1, grow_policy='depthwise',\n",
       "              importance_type=None, interaction_constraints='',\n",
       "              learning_rate=0.300000012, max_bin=256, max_cat_to_onehot=4,\n",
       "              max_delta_step=0, max_depth=6, max_leaves=0, min_child_weight=1,\n",
       "              missing=nan, monotone_constraints='()', n_estimators=100,\n",
       "              n_jobs=0, num_parallel_tree=1, predictor='auto', random_state=0,\n",
       "              reg_alpha=0, reg_lambda=1, ...)"
      ]
     },
     "execution_count": 153,
     "metadata": {},
     "output_type": "execute_result"
    }
   ],
   "source": [
    "from sklearn.ensemble import RandomForestClassifier\n",
    "\n",
    "rf_clf = xgb.XGBClassifier()\n",
    "rf_clf.fit(X_train, Y_train)"
   ]
  },
  {
   "cell_type": "code",
   "execution_count": 154,
   "id": "04a7694c",
   "metadata": {},
   "outputs": [
    {
     "data": {
      "text/plain": [
       "0.03198193591842288"
      ]
     },
     "execution_count": 154,
     "metadata": {},
     "output_type": "execute_result"
    }
   ],
   "source": [
    "pred = rf_clf.predict_proba(X_test)\n",
    "log_loss(Y_test, pred)"
   ]
  },
  {
   "cell_type": "code",
   "execution_count": 60,
   "id": "3b40efaf",
   "metadata": {},
   "outputs": [
    {
     "data": {
      "text/plain": [
       "0.9915365967762514"
      ]
     },
     "execution_count": 60,
     "metadata": {},
     "output_type": "execute_result"
    }
   ],
   "source": [
    "accuracy_score(rf_clf.predict(X_test), Y_test)"
   ]
  },
  {
   "cell_type": "markdown",
   "id": "8ec97f80",
   "metadata": {},
   "source": [
    "# Cross Validation"
   ]
  },
  {
   "cell_type": "code",
   "execution_count": 167,
   "id": "80ac5744",
   "metadata": {},
   "outputs": [
    {
     "name": "stdout",
     "output_type": "stream",
     "text": [
      "FOLD 1 | LogLoss: 0.0298\n",
      "FOLD 2 | LogLoss: 0.0298\n",
      "FOLD 3 | LogLoss: 0.0298\n",
      "FOLD 4 | LogLoss: 0.0298\n",
      "FOLD 5 | LogLoss: 0.0298\n",
      "FOLD 6 | LogLoss: 0.0298\n",
      "FOLD 7 | LogLoss: 0.0298\n",
      "FOLD 8 | LogLoss: 0.0298\n",
      "FOLD 9 | LogLoss: 0.0298\n",
      "FOLD 10 | LogLoss: 0.0298\n"
     ]
    }
   ],
   "source": [
    "import xgboost as xgb\n",
    "\n",
    "xgb_params = {\n",
    "    'max_depth': 15,\n",
    "    'eta': 0.01,\n",
    "    'colsample_bytree': 0.71,\n",
    "    'subsample': 0.8573,\n",
    "    'min_child_weight': 10,\n",
    "    'gamma': 0.9882,\n",
    "     'learning_rate' : 0.1123546,\n",
    "    'seed': 43,\n",
    "    'tree_method': 'exact',\n",
    "    'booster': 'gbtree',\n",
    "    'objective': 'binary:logistic',\n",
    "    'eval_metric': 'logloss'\n",
    "}\n",
    "\n",
    "proba = []\n",
    "\n",
    "# split the data with 10 fold\n",
    "k = StratifiedKFold(n_splits=10, random_state=43, shuffle=True)\n",
    "\n",
    "i = 0\n",
    "for (train_idx, val_idx) in k.split(X_train, Y_train):\n",
    "    i += 1\n",
    "    x_train,y_train = x[train_index],y.iloc[train_index] # create train data from index\n",
    "    x_test,y_test = x[test_index],y.iloc[test_index] # create test data from index\n",
    "\n",
    "    model = xgb.XGBClassifier(**xgb_params)\n",
    "    model.fit(x_train, y_train) # train data\n",
    "    \n",
    "    val_preds = model.predict_proba(x_test) \n",
    "    val_score = log_loss(y_test,np.array(val_preds)) # measure log_loss score\n",
    "    \n",
    "    proba.append(model.predict_proba(X_test))\n",
    "    \n",
    "    print(f'FOLD {i} | LogLoss: {round(val_score, 4)}')    "
   ]
  },
  {
   "cell_type": "code",
   "execution_count": 168,
   "id": "6493d2dd",
   "metadata": {},
   "outputs": [
    {
     "data": {
      "text/plain": [
       "0.030354197670409023"
      ]
     },
     "execution_count": 168,
     "metadata": {},
     "output_type": "execute_result"
    }
   ],
   "source": [
    "log_loss(Y_test, np.mean(proba, axis=0))"
   ]
  }
 ],
 "metadata": {
  "kernelspec": {
   "display_name": "Python 3 (ipykernel)",
   "language": "python",
   "name": "python3"
  },
  "language_info": {
   "codemirror_mode": {
    "name": "ipython",
    "version": 3
   },
   "file_extension": ".py",
   "mimetype": "text/x-python",
   "name": "python",
   "nbconvert_exporter": "python",
   "pygments_lexer": "ipython3",
   "version": "3.8.0"
  }
 },
 "nbformat": 4,
 "nbformat_minor": 5
}
